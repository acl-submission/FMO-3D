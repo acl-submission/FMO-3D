{
 "cells": [
  {
   "cell_type": "code",
   "execution_count": 1,
   "id": "1d15efa2",
   "metadata": {},
   "outputs": [
    {
     "name": "stderr",
     "output_type": "stream",
     "text": [
      "/home/local/ASURITE/wying4/anaconda3/envs/GraphMVP/lib/python3.7/site-packages/tqdm/auto.py:21: TqdmWarning: IProgress not found. Please update jupyter and ipywidgets. See https://ipywidgets.readthedocs.io/en/stable/user_install.html\n",
      "  from .autonotebook import tqdm as notebook_tqdm\n"
     ]
    }
   ],
   "source": [
    "import time\n",
    "\n",
    "import numpy as np\n",
    "import torch\n",
    "import torch.nn as nn\n",
    "import torch.nn.functional as F\n",
    "import torch.optim as optim\n",
    "# from config import args\n",
    "from models import GNN, AutoEncoder, SchNet, VariationalAutoEncoder\n",
    "from torch_geometric.data import DataLoader\n",
    "from torch_geometric.nn import global_mean_pool\n",
    "from tqdm import tqdm\n",
    "from datasets import Molecule3DMaskingDataset"
   ]
  },
  {
   "cell_type": "code",
   "execution_count": 2,
   "id": "bf51f364",
   "metadata": {},
   "outputs": [],
   "source": [
    "data, slice = torch.load('../datasets/GEOM_3D_nmol20_nconf1_nupper1000/processed/geometric_data_processed.pt')"
   ]
  },
  {
   "cell_type": "code",
   "execution_count": 6,
   "id": "369460f2",
   "metadata": {},
   "outputs": [
    {
     "data": {
      "text/plain": [
       "['x', 'edge_index', 'edge_attr', 'positions', 'id', 'mol_id']"
      ]
     },
     "execution_count": 6,
     "metadata": {},
     "output_type": "execute_result"
    }
   ],
   "source": [
    "data.keys"
   ]
  }
 ],
 "metadata": {
  "kernelspec": {
   "display_name": "GraphMVP",
   "language": "python",
   "name": "python3"
  },
  "language_info": {
   "codemirror_mode": {
    "name": "ipython",
    "version": 3
   },
   "file_extension": ".py",
   "mimetype": "text/x-python",
   "name": "python",
   "nbconvert_exporter": "python",
   "pygments_lexer": "ipython3",
   "version": "3.10.13"
  }
 },
 "nbformat": 4,
 "nbformat_minor": 5
}
